{
  "nbformat": 4,
  "nbformat_minor": 0,
  "metadata": {
    "colab": {
      "provenance": [],
      "authorship_tag": "ABX9TyPNYVetxeGy0eB1sPDQL8TQ",
      "include_colab_link": true
    },
    "kernelspec": {
      "name": "python3",
      "display_name": "Python 3"
    },
    "language_info": {
      "name": "python"
    }
  },
  "cells": [
    {
      "cell_type": "markdown",
      "metadata": {
        "id": "view-in-github",
        "colab_type": "text"
      },
      "source": [
        "<a href=\"https://colab.research.google.com/github/Selvadharshini-git/IS-LAB/blob/main/EX_2.ipynb\" target=\"_parent\"><img src=\"https://colab.research.google.com/assets/colab-badge.svg\" alt=\"Open In Colab\"/></a>"
      ]
    },
    {
      "cell_type": "code",
      "execution_count": 1,
      "metadata": {
        "colab": {
          "base_uri": "https://localhost:8080/"
        },
        "id": "ueZDk4SZHEoj",
        "outputId": "a9623b9b-4eaa-4e71-e8c8-1d39c6747d7c"
      },
      "outputs": [
        {
          "output_type": "stream",
          "name": "stdout",
          "text": [
            "Enter a string:\n",
            "2345\n",
            "The byte equivalent of hash is: b'\\x81\\xb0s\\xde\\x93p\\xea\\x87?T\\x8e1\\xb8\\xad\\xc0\\x81'\n",
            "The available algorithms are: {'sha512', 'blake2s', 'sha3_384', 'sha1', 'sha384', 'md5', 'shake_128', 'blake2b', 'sha256', 'sha3_256', 'sha3_512', 'sha3_224', 'sha224', 'shake_256'}\n"
          ]
        }
      ],
      "source": [
        "import hashlib\n",
        "a = input(\"Enter a string:\\n\")\n",
        "result = hashlib.md5(a.encode())\n",
        "print(\"The byte equivalent of hash is:\", end=\" \")\n",
        "print(result.digest())\n",
        "\n",
        "print(\"The available algorithms are:\", end=\" \")\n",
        "print(hashlib.algorithms_guaranteed)"
      ]
    }
  ]
}