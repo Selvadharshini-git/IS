{
  "nbformat": 4,
  "nbformat_minor": 0,
  "metadata": {
    "colab": {
      "provenance": [],
      "authorship_tag": "ABX9TyN9OX8S68HUoYeLmE4s2a78",
      "include_colab_link": true
    },
    "kernelspec": {
      "name": "python3",
      "display_name": "Python 3"
    },
    "language_info": {
      "name": "python"
    }
  },
  "cells": [
    {
      "cell_type": "markdown",
      "metadata": {
        "id": "view-in-github",
        "colab_type": "text"
      },
      "source": [
        "<a href=\"https://colab.research.google.com/github/Selvadharshini-git/IS-LAB/blob/main/EX_1.ipynb\" target=\"_parent\"><img src=\"https://colab.research.google.com/assets/colab-badge.svg\" alt=\"Open In Colab\"/></a>"
      ]
    },
    {
      "cell_type": "code",
      "execution_count": null,
      "metadata": {
        "colab": {
          "base_uri": "https://localhost:8080/"
        },
        "id": "Ckq6lH0PGik5",
        "outputId": "e59b2804-3815-4363-e815-3e5b90da2c54"
      },
      "outputs": [
        {
          "name": "stdout",
          "output_type": "stream",
          "text": [
            "\t\tConfidentiality\n",
            "\n",
            "\t\tChoose operation\n",
            "\t\t1. Encryption\n",
            "\t\t2. Decryption\n",
            "\t\t3. Exit\n",
            "\n",
            "\t\t1\n"
          ]
        }
      ],
      "source": [
        "def encrypt():\n",
        "    text = input(\"\\t\\tInput String: \")\n",
        "    encrypted_text = \"\".join(chr(ord(char) + 3) for char in text)\n",
        "    print(\"\\n\\t\\tEncrypted String:\", encrypted_text)\n",
        "\n",
        "def decrypt():\n",
        "    text = input(\"\\t\\tInput String: \")\n",
        "    decrypted_text = \"\".join(chr(ord(char) - 3) for char in text)\n",
        "    print(\"\\n\\t\\tDecrypted String:\", decrypted_text)\n",
        "\n",
        "def main():\n",
        "    print(\"\\t\\tConfidentiality\\n\")\n",
        "    while True:\n",
        "        print(\"\\t\\tChoose operation\\n\\t\\t1. Encryption\\n\\t\\t2. Decryption\\n\\t\\t3. Exit\\n\")\n",
        "        choice = input(\"\\t\\t\")\n",
        "\n",
        "        if choice == '1':\n",
        "            encrypt()\n",
        "        elif choice == '2':\n",
        "            decrypt()\n",
        "        elif choice == '3':\n",
        "            break\n",
        "        else:\n",
        "            print(\"\\t\\tInvalid choice!\")\n",
        "\n",
        "        cont = input(\"\\n\\t\\tDo you want to continue (Y/N): \").strip().lower()\n",
        "        if cont != 'y':\n",
        "            break\n",
        "\n",
        "if __name__ == \"__main__\":\n",
        "    main()"
      ]
    }
  ]
}